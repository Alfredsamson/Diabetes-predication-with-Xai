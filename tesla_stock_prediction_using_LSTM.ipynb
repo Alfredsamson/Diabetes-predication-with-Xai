{
  "nbformat": 4,
  "nbformat_minor": 0,
  "metadata": {
    "colab": {
      "provenance": [],
      "mount_file_id": "1XgUQN56FThTCM0kbmVp3dMIdpO7x9f1z",
      "authorship_tag": "ABX9TyPuTdxsL7iGSigaTKX4h4tT",
      "include_colab_link": true
    },
    "kernelspec": {
      "name": "python3",
      "display_name": "Python 3"
    },
    "language_info": {
      "name": "python"
    }
  },
  "cells": [
    {
      "cell_type": "markdown",
      "metadata": {
        "id": "view-in-github",
        "colab_type": "text"
      },
      "source": [
        "<a href=\"https://colab.research.google.com/github/Alfredsamson/Diabetes-predication-with-Xai/blob/main/tesla_stock_prediction_using_LSTM.ipynb\" target=\"_parent\"><img src=\"https://colab.research.google.com/assets/colab-badge.svg\" alt=\"Open In Colab\"/></a>"
      ]
    },
    {
      "cell_type": "code",
      "execution_count": null,
      "metadata": {
        "id": "VsgIXVnr9EjW"
      },
      "outputs": [],
      "source": [
        "import math\n",
        "import numpy as np\n",
        "import pandas as pd\n",
        "import seaborn as sns\n",
        "sns.set_style('whitegrid')\n",
        "import matplotlib.pyplot as plt\n",
        "plt.style.use(\"fivethirtyeight\")\n",
        "\n",
        "import keras\n",
        "from keras.models import Sequential\n",
        "from keras.callbacks import EarlyStopping\n",
        "from keras.layers import Dense, LSTM, Dropout\n",
        "\n",
        "from sklearn.preprocessing import MinMaxScaler\n",
        "from sklearn.model_selection import train_test_split\n",
        "from sklearn.metrics import mean_squared_error, mean_absolute_error"
      ]
    },
    {
      "cell_type": "code",
      "source": [
        "var='/content/drive/MyDrive/python/Tesla_Stock.csv'"
      ],
      "metadata": {
        "id": "5qlrVoke-MUf"
      },
      "execution_count": null,
      "outputs": []
    },
    {
      "cell_type": "code",
      "source": [],
      "metadata": {
        "id": "1bNHD1W5-mjc"
      },
      "execution_count": null,
      "outputs": []
    },
    {
      "cell_type": "code",
      "source": [
        "var1=pd.read_csv(var,parse_dates= True , index_col= \"Date\")"
      ],
      "metadata": {
        "id": "GMNCDrOL-dqN"
      },
      "execution_count": null,
      "outputs": []
    },
    {
      "cell_type": "code",
      "source": [
        "var1.head()"
      ],
      "metadata": {
        "colab": {
          "base_uri": "https://localhost:8080/",
          "height": 238
        },
        "id": "yyytthWI-nnE",
        "outputId": "c25ac3a0-e328-485b-bc60-5817d75f39dc"
      },
      "execution_count": null,
      "outputs": [
        {
          "output_type": "execute_result",
          "data": {
            "text/plain": [
              "             Open   High    Low  Close   Volume\n",
              "Date                                           \n",
              "2012-01-03  28.94  29.50  27.65  28.08   928052\n",
              "2012-01-04  28.21  28.67  27.50  27.71   630036\n",
              "2012-01-05  27.76  27.93  26.85  27.12  1005432\n",
              "2012-01-06  27.20  27.79  26.41  26.89   687081\n",
              "2012-01-09  27.00  27.49  26.12  27.25   896951"
            ],
            "text/html": [
              "\n",
              "  <div id=\"df-79ac5902-41e5-4dc0-bb73-0179a4d6cca6\" class=\"colab-df-container\">\n",
              "    <div>\n",
              "<style scoped>\n",
              "    .dataframe tbody tr th:only-of-type {\n",
              "        vertical-align: middle;\n",
              "    }\n",
              "\n",
              "    .dataframe tbody tr th {\n",
              "        vertical-align: top;\n",
              "    }\n",
              "\n",
              "    .dataframe thead th {\n",
              "        text-align: right;\n",
              "    }\n",
              "</style>\n",
              "<table border=\"1\" class=\"dataframe\">\n",
              "  <thead>\n",
              "    <tr style=\"text-align: right;\">\n",
              "      <th></th>\n",
              "      <th>Open</th>\n",
              "      <th>High</th>\n",
              "      <th>Low</th>\n",
              "      <th>Close</th>\n",
              "      <th>Volume</th>\n",
              "    </tr>\n",
              "    <tr>\n",
              "      <th>Date</th>\n",
              "      <th></th>\n",
              "      <th></th>\n",
              "      <th></th>\n",
              "      <th></th>\n",
              "      <th></th>\n",
              "    </tr>\n",
              "  </thead>\n",
              "  <tbody>\n",
              "    <tr>\n",
              "      <th>2012-01-03</th>\n",
              "      <td>28.94</td>\n",
              "      <td>29.50</td>\n",
              "      <td>27.65</td>\n",
              "      <td>28.08</td>\n",
              "      <td>928052</td>\n",
              "    </tr>\n",
              "    <tr>\n",
              "      <th>2012-01-04</th>\n",
              "      <td>28.21</td>\n",
              "      <td>28.67</td>\n",
              "      <td>27.50</td>\n",
              "      <td>27.71</td>\n",
              "      <td>630036</td>\n",
              "    </tr>\n",
              "    <tr>\n",
              "      <th>2012-01-05</th>\n",
              "      <td>27.76</td>\n",
              "      <td>27.93</td>\n",
              "      <td>26.85</td>\n",
              "      <td>27.12</td>\n",
              "      <td>1005432</td>\n",
              "    </tr>\n",
              "    <tr>\n",
              "      <th>2012-01-06</th>\n",
              "      <td>27.20</td>\n",
              "      <td>27.79</td>\n",
              "      <td>26.41</td>\n",
              "      <td>26.89</td>\n",
              "      <td>687081</td>\n",
              "    </tr>\n",
              "    <tr>\n",
              "      <th>2012-01-09</th>\n",
              "      <td>27.00</td>\n",
              "      <td>27.49</td>\n",
              "      <td>26.12</td>\n",
              "      <td>27.25</td>\n",
              "      <td>896951</td>\n",
              "    </tr>\n",
              "  </tbody>\n",
              "</table>\n",
              "</div>\n",
              "    <div class=\"colab-df-buttons\">\n",
              "\n",
              "  <div class=\"colab-df-container\">\n",
              "    <button class=\"colab-df-convert\" onclick=\"convertToInteractive('df-79ac5902-41e5-4dc0-bb73-0179a4d6cca6')\"\n",
              "            title=\"Convert this dataframe to an interactive table.\"\n",
              "            style=\"display:none;\">\n",
              "\n",
              "  <svg xmlns=\"http://www.w3.org/2000/svg\" height=\"24px\" viewBox=\"0 -960 960 960\">\n",
              "    <path d=\"M120-120v-720h720v720H120Zm60-500h600v-160H180v160Zm220 220h160v-160H400v160Zm0 220h160v-160H400v160ZM180-400h160v-160H180v160Zm440 0h160v-160H620v160ZM180-180h160v-160H180v160Zm440 0h160v-160H620v160Z\"/>\n",
              "  </svg>\n",
              "    </button>\n",
              "\n",
              "  <style>\n",
              "    .colab-df-container {\n",
              "      display:flex;\n",
              "      gap: 12px;\n",
              "    }\n",
              "\n",
              "    .colab-df-convert {\n",
              "      background-color: #E8F0FE;\n",
              "      border: none;\n",
              "      border-radius: 50%;\n",
              "      cursor: pointer;\n",
              "      display: none;\n",
              "      fill: #1967D2;\n",
              "      height: 32px;\n",
              "      padding: 0 0 0 0;\n",
              "      width: 32px;\n",
              "    }\n",
              "\n",
              "    .colab-df-convert:hover {\n",
              "      background-color: #E2EBFA;\n",
              "      box-shadow: 0px 1px 2px rgba(60, 64, 67, 0.3), 0px 1px 3px 1px rgba(60, 64, 67, 0.15);\n",
              "      fill: #174EA6;\n",
              "    }\n",
              "\n",
              "    .colab-df-buttons div {\n",
              "      margin-bottom: 4px;\n",
              "    }\n",
              "\n",
              "    [theme=dark] .colab-df-convert {\n",
              "      background-color: #3B4455;\n",
              "      fill: #D2E3FC;\n",
              "    }\n",
              "\n",
              "    [theme=dark] .colab-df-convert:hover {\n",
              "      background-color: #434B5C;\n",
              "      box-shadow: 0px 1px 3px 1px rgba(0, 0, 0, 0.15);\n",
              "      filter: drop-shadow(0px 1px 2px rgba(0, 0, 0, 0.3));\n",
              "      fill: #FFFFFF;\n",
              "    }\n",
              "  </style>\n",
              "\n",
              "    <script>\n",
              "      const buttonEl =\n",
              "        document.querySelector('#df-79ac5902-41e5-4dc0-bb73-0179a4d6cca6 button.colab-df-convert');\n",
              "      buttonEl.style.display =\n",
              "        google.colab.kernel.accessAllowed ? 'block' : 'none';\n",
              "\n",
              "      async function convertToInteractive(key) {\n",
              "        const element = document.querySelector('#df-79ac5902-41e5-4dc0-bb73-0179a4d6cca6');\n",
              "        const dataTable =\n",
              "          await google.colab.kernel.invokeFunction('convertToInteractive',\n",
              "                                                    [key], {});\n",
              "        if (!dataTable) return;\n",
              "\n",
              "        const docLinkHtml = 'Like what you see? Visit the ' +\n",
              "          '<a target=\"_blank\" href=https://colab.research.google.com/notebooks/data_table.ipynb>data table notebook</a>'\n",
              "          + ' to learn more about interactive tables.';\n",
              "        element.innerHTML = '';\n",
              "        dataTable['output_type'] = 'display_data';\n",
              "        await google.colab.output.renderOutput(dataTable, element);\n",
              "        const docLink = document.createElement('div');\n",
              "        docLink.innerHTML = docLinkHtml;\n",
              "        element.appendChild(docLink);\n",
              "      }\n",
              "    </script>\n",
              "  </div>\n",
              "\n",
              "\n",
              "<div id=\"df-2bf6d8de-2138-42fe-8a86-88063e510356\">\n",
              "  <button class=\"colab-df-quickchart\" onclick=\"quickchart('df-2bf6d8de-2138-42fe-8a86-88063e510356')\"\n",
              "            title=\"Suggest charts\"\n",
              "            style=\"display:none;\">\n",
              "\n",
              "<svg xmlns=\"http://www.w3.org/2000/svg\" height=\"24px\"viewBox=\"0 0 24 24\"\n",
              "     width=\"24px\">\n",
              "    <g>\n",
              "        <path d=\"M19 3H5c-1.1 0-2 .9-2 2v14c0 1.1.9 2 2 2h14c1.1 0 2-.9 2-2V5c0-1.1-.9-2-2-2zM9 17H7v-7h2v7zm4 0h-2V7h2v10zm4 0h-2v-4h2v4z\"/>\n",
              "    </g>\n",
              "</svg>\n",
              "  </button>\n",
              "\n",
              "<style>\n",
              "  .colab-df-quickchart {\n",
              "      --bg-color: #E8F0FE;\n",
              "      --fill-color: #1967D2;\n",
              "      --hover-bg-color: #E2EBFA;\n",
              "      --hover-fill-color: #174EA6;\n",
              "      --disabled-fill-color: #AAA;\n",
              "      --disabled-bg-color: #DDD;\n",
              "  }\n",
              "\n",
              "  [theme=dark] .colab-df-quickchart {\n",
              "      --bg-color: #3B4455;\n",
              "      --fill-color: #D2E3FC;\n",
              "      --hover-bg-color: #434B5C;\n",
              "      --hover-fill-color: #FFFFFF;\n",
              "      --disabled-bg-color: #3B4455;\n",
              "      --disabled-fill-color: #666;\n",
              "  }\n",
              "\n",
              "  .colab-df-quickchart {\n",
              "    background-color: var(--bg-color);\n",
              "    border: none;\n",
              "    border-radius: 50%;\n",
              "    cursor: pointer;\n",
              "    display: none;\n",
              "    fill: var(--fill-color);\n",
              "    height: 32px;\n",
              "    padding: 0;\n",
              "    width: 32px;\n",
              "  }\n",
              "\n",
              "  .colab-df-quickchart:hover {\n",
              "    background-color: var(--hover-bg-color);\n",
              "    box-shadow: 0 1px 2px rgba(60, 64, 67, 0.3), 0 1px 3px 1px rgba(60, 64, 67, 0.15);\n",
              "    fill: var(--button-hover-fill-color);\n",
              "  }\n",
              "\n",
              "  .colab-df-quickchart-complete:disabled,\n",
              "  .colab-df-quickchart-complete:disabled:hover {\n",
              "    background-color: var(--disabled-bg-color);\n",
              "    fill: var(--disabled-fill-color);\n",
              "    box-shadow: none;\n",
              "  }\n",
              "\n",
              "  .colab-df-spinner {\n",
              "    border: 2px solid var(--fill-color);\n",
              "    border-color: transparent;\n",
              "    border-bottom-color: var(--fill-color);\n",
              "    animation:\n",
              "      spin 1s steps(1) infinite;\n",
              "  }\n",
              "\n",
              "  @keyframes spin {\n",
              "    0% {\n",
              "      border-color: transparent;\n",
              "      border-bottom-color: var(--fill-color);\n",
              "      border-left-color: var(--fill-color);\n",
              "    }\n",
              "    20% {\n",
              "      border-color: transparent;\n",
              "      border-left-color: var(--fill-color);\n",
              "      border-top-color: var(--fill-color);\n",
              "    }\n",
              "    30% {\n",
              "      border-color: transparent;\n",
              "      border-left-color: var(--fill-color);\n",
              "      border-top-color: var(--fill-color);\n",
              "      border-right-color: var(--fill-color);\n",
              "    }\n",
              "    40% {\n",
              "      border-color: transparent;\n",
              "      border-right-color: var(--fill-color);\n",
              "      border-top-color: var(--fill-color);\n",
              "    }\n",
              "    60% {\n",
              "      border-color: transparent;\n",
              "      border-right-color: var(--fill-color);\n",
              "    }\n",
              "    80% {\n",
              "      border-color: transparent;\n",
              "      border-right-color: var(--fill-color);\n",
              "      border-bottom-color: var(--fill-color);\n",
              "    }\n",
              "    90% {\n",
              "      border-color: transparent;\n",
              "      border-bottom-color: var(--fill-color);\n",
              "    }\n",
              "  }\n",
              "</style>\n",
              "\n",
              "  <script>\n",
              "    async function quickchart(key) {\n",
              "      const quickchartButtonEl =\n",
              "        document.querySelector('#' + key + ' button');\n",
              "      quickchartButtonEl.disabled = true;  // To prevent multiple clicks.\n",
              "      quickchartButtonEl.classList.add('colab-df-spinner');\n",
              "      try {\n",
              "        const charts = await google.colab.kernel.invokeFunction(\n",
              "            'suggestCharts', [key], {});\n",
              "      } catch (error) {\n",
              "        console.error('Error during call to suggestCharts:', error);\n",
              "      }\n",
              "      quickchartButtonEl.classList.remove('colab-df-spinner');\n",
              "      quickchartButtonEl.classList.add('colab-df-quickchart-complete');\n",
              "    }\n",
              "    (() => {\n",
              "      let quickchartButtonEl =\n",
              "        document.querySelector('#df-2bf6d8de-2138-42fe-8a86-88063e510356 button');\n",
              "      quickchartButtonEl.style.display =\n",
              "        google.colab.kernel.accessAllowed ? 'block' : 'none';\n",
              "    })();\n",
              "  </script>\n",
              "</div>\n",
              "    </div>\n",
              "  </div>\n"
            ]
          },
          "metadata": {},
          "execution_count": 5
        }
      ]
    },
    {
      "cell_type": "code",
      "source": [
        "dataset = var1[\"Close\"]\n",
        "dataset = pd.DataFrame(dataset)\n",
        "\n",
        "data = dataset.values\n",
        "\n",
        "data.shape"
      ],
      "metadata": {
        "colab": {
          "base_uri": "https://localhost:8080/"
        },
        "id": "DDMSR3G0-4FC",
        "outputId": "bacba266-f943-429f-9b46-b0197add7316"
      },
      "execution_count": null,
      "outputs": [
        {
          "output_type": "execute_result",
          "data": {
            "text/plain": [
              "(1258, 1)"
            ]
          },
          "metadata": {},
          "execution_count": 6
        }
      ]
    },
    {
      "cell_type": "code",
      "source": [
        "from sklearn.preprocessing import MinMaxScaler\n",
        "scaler = MinMaxScaler(feature_range= (0, 1))\n",
        "scaled_data = scaler.fit_transform(np.array(data).reshape(-1, 1))"
      ],
      "metadata": {
        "id": "Oud1YL_s_KJh"
      },
      "execution_count": null,
      "outputs": []
    },
    {
      "cell_type": "code",
      "source": [
        "# 75% to Train , 25% to Test\n",
        "train_size = int(len(data)*.75)\n",
        "test_size = len(data) - train_size\n",
        "\n",
        "print(\"Train Size :\",train_size,\"Test Size :\",test_size)\n",
        "\n",
        "train_data = scaled_data[ :train_size , 0:1 ]\n",
        "test_data = scaled_data[ train_size-60: , 0:1 ]"
      ],
      "metadata": {
        "colab": {
          "base_uri": "https://localhost:8080/"
        },
        "id": "0aFxEXz4_VAp",
        "outputId": "d6e77f34-9f5c-4d88-d7f6-aa46dd82dcd8"
      },
      "execution_count": null,
      "outputs": [
        {
          "output_type": "stream",
          "name": "stdout",
          "text": [
            "Train Size : 943 Test Size : 315\n"
          ]
        }
      ]
    },
    {
      "cell_type": "code",
      "source": [
        "train_data.shape, test_data.shape"
      ],
      "metadata": {
        "colab": {
          "base_uri": "https://localhost:8080/"
        },
        "id": "QQ6Qf-qz_c2a",
        "outputId": "5efd992d-a2c1-48e6-e4a7-b1b773db20a4"
      },
      "execution_count": null,
      "outputs": [
        {
          "output_type": "execute_result",
          "data": {
            "text/plain": [
              "((943, 1), (375, 1))"
            ]
          },
          "metadata": {},
          "execution_count": 9
        }
      ]
    },
    {
      "cell_type": "code",
      "source": [
        "# Creating a Training set with 60 time-steps and 1 output\n",
        "x_train = []\n",
        "y_train = []\n",
        "\n",
        "for i in range(60, len(train_data)):\n",
        "    x_train.append(train_data[i-60:i, 0])\n",
        "    y_train.append(train_data[i, 0])"
      ],
      "metadata": {
        "id": "-xARKWfh_kK2"
      },
      "execution_count": null,
      "outputs": []
    },
    {
      "cell_type": "code",
      "source": [
        "# Convert to numpy array\n",
        "x_train, y_train = np.array(x_train), np.array(y_train)"
      ],
      "metadata": {
        "id": "gv_bxlSx_r1V"
      },
      "execution_count": null,
      "outputs": []
    },
    {
      "cell_type": "code",
      "source": [
        "x_train = np.reshape(x_train, (x_train.shape[0], x_train.shape[1], 1))"
      ],
      "metadata": {
        "id": "4X6aaUNc_xtS"
      },
      "execution_count": null,
      "outputs": []
    },
    {
      "cell_type": "code",
      "source": [
        "x_train.shape , y_train.shape"
      ],
      "metadata": {
        "colab": {
          "base_uri": "https://localhost:8080/"
        },
        "id": "HBeFa2lZ_4P8",
        "outputId": "b8366c12-fd29-4814-ce6e-a2bead0e599f"
      },
      "execution_count": null,
      "outputs": [
        {
          "output_type": "execute_result",
          "data": {
            "text/plain": [
              "((883, 60, 1), (883,))"
            ]
          },
          "metadata": {},
          "execution_count": 13
        }
      ]
    },
    {
      "cell_type": "code",
      "source": [
        "model = Sequential([\n",
        "    LSTM(50, return_sequences= True, input_shape= (x_train.shape[1], 1)),\n",
        "    LSTM(64, return_sequences= False),\n",
        "    Dense(32),\n",
        "    Dense(16),\n",
        "    Dense(1)\n",
        "])\n",
        "\n",
        "model.compile(optimizer= 'adam', loss= 'mse' , metrics= \"mean_absolute_error\")"
      ],
      "metadata": {
        "id": "BbO1iDaL__bH"
      },
      "execution_count": null,
      "outputs": []
    },
    {
      "cell_type": "code",
      "source": [
        "model.summary()"
      ],
      "metadata": {
        "colab": {
          "base_uri": "https://localhost:8080/"
        },
        "id": "QHnXQlArAKYW",
        "outputId": "d65e49ca-acd5-4b61-9b2e-7627f2f80d68"
      },
      "execution_count": null,
      "outputs": [
        {
          "output_type": "stream",
          "name": "stdout",
          "text": [
            "Model: \"sequential\"\n",
            "_________________________________________________________________\n",
            " Layer (type)                Output Shape              Param #   \n",
            "=================================================================\n",
            " lstm (LSTM)                 (None, 60, 50)            10400     \n",
            "                                                                 \n",
            " lstm_1 (LSTM)               (None, 64)                29440     \n",
            "                                                                 \n",
            " dense (Dense)               (None, 32)                2080      \n",
            "                                                                 \n",
            " dense_1 (Dense)             (None, 16)                528       \n",
            "                                                                 \n",
            " dense_2 (Dense)             (None, 1)                 17        \n",
            "                                                                 \n",
            "=================================================================\n",
            "Total params: 42465 (165.88 KB)\n",
            "Trainable params: 42465 (165.88 KB)\n",
            "Non-trainable params: 0 (0.00 Byte)\n",
            "_________________________________________________________________\n"
          ]
        }
      ]
    },
    {
      "cell_type": "code",
      "source": [
        "# Fitting the LSTM to the Training set\n",
        "callbacks = [EarlyStopping(monitor= 'loss', patience= 10 , restore_best_weights= True)]\n",
        "history = model.fit(x_train, y_train, epochs= 100, batch_size= 32 , callbacks= callbacks )"
      ],
      "metadata": {
        "colab": {
          "base_uri": "https://localhost:8080/"
        },
        "id": "LXy5nSlmAS1I",
        "outputId": "11634098-a3fe-4eb0-b1c4-e9eb55d8e442"
      },
      "execution_count": null,
      "outputs": [
        {
          "output_type": "stream",
          "name": "stdout",
          "text": [
            "Epoch 1/100\n",
            "28/28 [==============================] - 7s 56ms/step - loss: 0.0438 - mean_absolute_error: 0.1485\n",
            "Epoch 2/100\n",
            "28/28 [==============================] - 2s 57ms/step - loss: 0.0026 - mean_absolute_error: 0.0396\n",
            "Epoch 3/100\n",
            "28/28 [==============================] - 2s 54ms/step - loss: 0.0017 - mean_absolute_error: 0.0288\n",
            "Epoch 4/100\n",
            "28/28 [==============================] - 1s 51ms/step - loss: 0.0016 - mean_absolute_error: 0.0289\n",
            "Epoch 5/100\n",
            "28/28 [==============================] - 2s 62ms/step - loss: 0.0016 - mean_absolute_error: 0.0283\n",
            "Epoch 6/100\n",
            "28/28 [==============================] - 3s 94ms/step - loss: 0.0015 - mean_absolute_error: 0.0274\n",
            "Epoch 7/100\n",
            "28/28 [==============================] - 3s 97ms/step - loss: 0.0016 - mean_absolute_error: 0.0288\n",
            "Epoch 8/100\n",
            "28/28 [==============================] - 3s 117ms/step - loss: 0.0014 - mean_absolute_error: 0.0265\n",
            "Epoch 9/100\n",
            "28/28 [==============================] - 4s 122ms/step - loss: 0.0014 - mean_absolute_error: 0.0264\n",
            "Epoch 10/100\n",
            "28/28 [==============================] - 3s 104ms/step - loss: 0.0013 - mean_absolute_error: 0.0261\n",
            "Epoch 11/100\n",
            "28/28 [==============================] - 1s 52ms/step - loss: 0.0013 - mean_absolute_error: 0.0255\n",
            "Epoch 12/100\n",
            "28/28 [==============================] - 1s 51ms/step - loss: 0.0013 - mean_absolute_error: 0.0257\n",
            "Epoch 13/100\n",
            "28/28 [==============================] - 2s 62ms/step - loss: 0.0014 - mean_absolute_error: 0.0264\n",
            "Epoch 14/100\n",
            "28/28 [==============================] - 2s 85ms/step - loss: 0.0012 - mean_absolute_error: 0.0245\n",
            "Epoch 15/100\n",
            "28/28 [==============================] - 2s 89ms/step - loss: 0.0012 - mean_absolute_error: 0.0245\n",
            "Epoch 16/100\n",
            "28/28 [==============================] - 2s 84ms/step - loss: 0.0011 - mean_absolute_error: 0.0236\n",
            "Epoch 17/100\n",
            "28/28 [==============================] - 1s 53ms/step - loss: 0.0011 - mean_absolute_error: 0.0235\n",
            "Epoch 18/100\n",
            "28/28 [==============================] - 2s 59ms/step - loss: 0.0011 - mean_absolute_error: 0.0234\n",
            "Epoch 19/100\n",
            "28/28 [==============================] - 2s 60ms/step - loss: 0.0011 - mean_absolute_error: 0.0232\n",
            "Epoch 20/100\n",
            "28/28 [==============================] - 2s 56ms/step - loss: 0.0012 - mean_absolute_error: 0.0245\n",
            "Epoch 21/100\n",
            "28/28 [==============================] - 2s 55ms/step - loss: 0.0010 - mean_absolute_error: 0.0226\n",
            "Epoch 22/100\n",
            "28/28 [==============================] - 2s 55ms/step - loss: 0.0010 - mean_absolute_error: 0.0226\n",
            "Epoch 23/100\n",
            "28/28 [==============================] - 2s 88ms/step - loss: 0.0011 - mean_absolute_error: 0.0229\n",
            "Epoch 24/100\n",
            "28/28 [==============================] - 3s 92ms/step - loss: 0.0012 - mean_absolute_error: 0.0243\n",
            "Epoch 25/100\n",
            "28/28 [==============================] - 2s 83ms/step - loss: 0.0010 - mean_absolute_error: 0.0226\n",
            "Epoch 26/100\n",
            "28/28 [==============================] - 2s 54ms/step - loss: 9.2053e-04 - mean_absolute_error: 0.0215\n",
            "Epoch 27/100\n",
            "28/28 [==============================] - 1s 53ms/step - loss: 9.3634e-04 - mean_absolute_error: 0.0217\n",
            "Epoch 28/100\n",
            "28/28 [==============================] - 2s 55ms/step - loss: 9.1576e-04 - mean_absolute_error: 0.0212\n",
            "Epoch 29/100\n",
            "28/28 [==============================] - 2s 59ms/step - loss: 0.0010 - mean_absolute_error: 0.0228\n",
            "Epoch 30/100\n",
            "28/28 [==============================] - 2s 56ms/step - loss: 9.6673e-04 - mean_absolute_error: 0.0221\n",
            "Epoch 31/100\n",
            "28/28 [==============================] - 2s 56ms/step - loss: 9.2452e-04 - mean_absolute_error: 0.0210\n",
            "Epoch 32/100\n",
            "28/28 [==============================] - 2s 76ms/step - loss: 8.8334e-04 - mean_absolute_error: 0.0207\n",
            "Epoch 33/100\n",
            "28/28 [==============================] - 3s 90ms/step - loss: 9.4404e-04 - mean_absolute_error: 0.0215\n",
            "Epoch 34/100\n",
            "28/28 [==============================] - 3s 94ms/step - loss: 9.4928e-04 - mean_absolute_error: 0.0216\n",
            "Epoch 35/100\n",
            "28/28 [==============================] - 2s 57ms/step - loss: 8.5560e-04 - mean_absolute_error: 0.0202\n",
            "Epoch 36/100\n",
            "28/28 [==============================] - 2s 57ms/step - loss: 8.2820e-04 - mean_absolute_error: 0.0201\n",
            "Epoch 37/100\n",
            "28/28 [==============================] - 2s 60ms/step - loss: 7.8672e-04 - mean_absolute_error: 0.0193\n",
            "Epoch 38/100\n",
            "28/28 [==============================] - 2s 55ms/step - loss: 8.8743e-04 - mean_absolute_error: 0.0208\n",
            "Epoch 39/100\n",
            "28/28 [==============================] - 2s 58ms/step - loss: 7.7490e-04 - mean_absolute_error: 0.0190\n",
            "Epoch 40/100\n",
            "28/28 [==============================] - 2s 58ms/step - loss: 9.2988e-04 - mean_absolute_error: 0.0212\n",
            "Epoch 41/100\n",
            "28/28 [==============================] - 2s 87ms/step - loss: 9.2251e-04 - mean_absolute_error: 0.0216\n",
            "Epoch 42/100\n",
            "28/28 [==============================] - 3s 113ms/step - loss: 8.6571e-04 - mean_absolute_error: 0.0204\n",
            "Epoch 43/100\n",
            "28/28 [==============================] - 4s 139ms/step - loss: 9.8358e-04 - mean_absolute_error: 0.0219\n",
            "Epoch 44/100\n",
            "28/28 [==============================] - 3s 113ms/step - loss: 7.6385e-04 - mean_absolute_error: 0.0188\n",
            "Epoch 45/100\n",
            "28/28 [==============================] - 3s 107ms/step - loss: 7.1180e-04 - mean_absolute_error: 0.0183\n",
            "Epoch 46/100\n",
            "28/28 [==============================] - 2s 84ms/step - loss: 8.0768e-04 - mean_absolute_error: 0.0196\n",
            "Epoch 47/100\n",
            "28/28 [==============================] - 3s 96ms/step - loss: 7.4525e-04 - mean_absolute_error: 0.0185\n",
            "Epoch 48/100\n",
            "28/28 [==============================] - 3s 93ms/step - loss: 7.6722e-04 - mean_absolute_error: 0.0189\n",
            "Epoch 49/100\n",
            "28/28 [==============================] - 2s 78ms/step - loss: 6.8549e-04 - mean_absolute_error: 0.0181\n",
            "Epoch 50/100\n",
            "28/28 [==============================] - 2s 57ms/step - loss: 7.5216e-04 - mean_absolute_error: 0.0192\n",
            "Epoch 51/100\n",
            "28/28 [==============================] - 2s 57ms/step - loss: 6.7420e-04 - mean_absolute_error: 0.0177\n",
            "Epoch 52/100\n",
            "28/28 [==============================] - 2s 60ms/step - loss: 6.3501e-04 - mean_absolute_error: 0.0169\n",
            "Epoch 53/100\n",
            "28/28 [==============================] - 2s 57ms/step - loss: 7.0105e-04 - mean_absolute_error: 0.0185\n",
            "Epoch 54/100\n",
            "28/28 [==============================] - 2s 59ms/step - loss: 6.4921e-04 - mean_absolute_error: 0.0170\n",
            "Epoch 55/100\n",
            "28/28 [==============================] - 2s 65ms/step - loss: 5.9033e-04 - mean_absolute_error: 0.0163\n",
            "Epoch 56/100\n",
            "28/28 [==============================] - 2s 87ms/step - loss: 6.4600e-04 - mean_absolute_error: 0.0171\n",
            "Epoch 57/100\n",
            "28/28 [==============================] - 2s 85ms/step - loss: 6.7809e-04 - mean_absolute_error: 0.0182\n",
            "Epoch 58/100\n",
            "28/28 [==============================] - 2s 75ms/step - loss: 6.8968e-04 - mean_absolute_error: 0.0181\n",
            "Epoch 59/100\n",
            "28/28 [==============================] - 2s 58ms/step - loss: 6.3665e-04 - mean_absolute_error: 0.0172\n",
            "Epoch 60/100\n",
            "28/28 [==============================] - 2s 72ms/step - loss: 5.4654e-04 - mean_absolute_error: 0.0157\n",
            "Epoch 61/100\n",
            "28/28 [==============================] - 3s 100ms/step - loss: 5.7021e-04 - mean_absolute_error: 0.0159\n",
            "Epoch 62/100\n",
            "28/28 [==============================] - 2s 82ms/step - loss: 5.3113e-04 - mean_absolute_error: 0.0154\n",
            "Epoch 63/100\n",
            "28/28 [==============================] - 3s 122ms/step - loss: 6.1943e-04 - mean_absolute_error: 0.0173\n",
            "Epoch 64/100\n",
            "28/28 [==============================] - 4s 129ms/step - loss: 5.1275e-04 - mean_absolute_error: 0.0154\n",
            "Epoch 65/100\n",
            "28/28 [==============================] - 5s 162ms/step - loss: 5.0997e-04 - mean_absolute_error: 0.0152\n",
            "Epoch 66/100\n",
            "28/28 [==============================] - 3s 117ms/step - loss: 5.0851e-04 - mean_absolute_error: 0.0150\n",
            "Epoch 67/100\n",
            "28/28 [==============================] - 3s 90ms/step - loss: 5.2828e-04 - mean_absolute_error: 0.0155\n",
            "Epoch 68/100\n",
            "28/28 [==============================] - 2s 54ms/step - loss: 7.1853e-04 - mean_absolute_error: 0.0193\n",
            "Epoch 69/100\n",
            "28/28 [==============================] - 2s 58ms/step - loss: 5.5429e-04 - mean_absolute_error: 0.0163\n",
            "Epoch 70/100\n",
            "28/28 [==============================] - 2s 75ms/step - loss: 6.9703e-04 - mean_absolute_error: 0.0181\n",
            "Epoch 71/100\n",
            "28/28 [==============================] - 3s 89ms/step - loss: 6.6406e-04 - mean_absolute_error: 0.0182\n",
            "Epoch 72/100\n",
            "28/28 [==============================] - 2s 85ms/step - loss: 5.2648e-04 - mean_absolute_error: 0.0158\n",
            "Epoch 73/100\n",
            "28/28 [==============================] - 2s 67ms/step - loss: 5.1546e-04 - mean_absolute_error: 0.0153\n",
            "Epoch 74/100\n",
            "28/28 [==============================] - 2s 61ms/step - loss: 4.5434e-04 - mean_absolute_error: 0.0142\n",
            "Epoch 75/100\n",
            "28/28 [==============================] - 2s 61ms/step - loss: 5.2397e-04 - mean_absolute_error: 0.0154\n",
            "Epoch 76/100\n",
            "28/28 [==============================] - 2s 80ms/step - loss: 5.0885e-04 - mean_absolute_error: 0.0155\n",
            "Epoch 77/100\n",
            "28/28 [==============================] - 2s 56ms/step - loss: 5.5527e-04 - mean_absolute_error: 0.0161\n",
            "Epoch 78/100\n",
            "28/28 [==============================] - 2s 60ms/step - loss: 5.0726e-04 - mean_absolute_error: 0.0154\n",
            "Epoch 79/100\n",
            "28/28 [==============================] - 2s 90ms/step - loss: 5.3091e-04 - mean_absolute_error: 0.0156\n",
            "Epoch 80/100\n",
            "28/28 [==============================] - 3s 97ms/step - loss: 4.9094e-04 - mean_absolute_error: 0.0148\n",
            "Epoch 81/100\n",
            "28/28 [==============================] - 2s 88ms/step - loss: 4.5526e-04 - mean_absolute_error: 0.0141\n",
            "Epoch 82/100\n",
            "28/28 [==============================] - 2s 55ms/step - loss: 4.3854e-04 - mean_absolute_error: 0.0141\n",
            "Epoch 83/100\n",
            "28/28 [==============================] - 2s 55ms/step - loss: 4.6095e-04 - mean_absolute_error: 0.0145\n",
            "Epoch 84/100\n",
            "28/28 [==============================] - 2s 60ms/step - loss: 4.6349e-04 - mean_absolute_error: 0.0146\n",
            "Epoch 85/100\n",
            "28/28 [==============================] - 2s 53ms/step - loss: 6.1131e-04 - mean_absolute_error: 0.0174\n",
            "Epoch 86/100\n",
            "28/28 [==============================] - 2s 54ms/step - loss: 4.6793e-04 - mean_absolute_error: 0.0146\n",
            "Epoch 87/100\n",
            "28/28 [==============================] - 2s 56ms/step - loss: 4.4771e-04 - mean_absolute_error: 0.0141\n",
            "Epoch 88/100\n",
            "28/28 [==============================] - 2s 85ms/step - loss: 4.5594e-04 - mean_absolute_error: 0.0149\n",
            "Epoch 89/100\n",
            "28/28 [==============================] - 3s 124ms/step - loss: 4.8979e-04 - mean_absolute_error: 0.0153\n",
            "Epoch 90/100\n",
            "28/28 [==============================] - 2s 77ms/step - loss: 4.5714e-04 - mean_absolute_error: 0.0143\n",
            "Epoch 91/100\n",
            "28/28 [==============================] - 2s 56ms/step - loss: 4.2820e-04 - mean_absolute_error: 0.0138\n",
            "Epoch 92/100\n",
            "28/28 [==============================] - 2s 56ms/step - loss: 5.1099e-04 - mean_absolute_error: 0.0154\n",
            "Epoch 93/100\n",
            "28/28 [==============================] - 2s 57ms/step - loss: 4.1895e-04 - mean_absolute_error: 0.0136\n",
            "Epoch 94/100\n",
            "28/28 [==============================] - 2s 59ms/step - loss: 4.0405e-04 - mean_absolute_error: 0.0131\n",
            "Epoch 95/100\n",
            "28/28 [==============================] - 2s 61ms/step - loss: 4.1711e-04 - mean_absolute_error: 0.0136\n",
            "Epoch 96/100\n",
            "28/28 [==============================] - 2s 65ms/step - loss: 4.0396e-04 - mean_absolute_error: 0.0136\n",
            "Epoch 97/100\n",
            "28/28 [==============================] - 3s 95ms/step - loss: 4.1555e-04 - mean_absolute_error: 0.0135\n",
            "Epoch 98/100\n",
            "28/28 [==============================] - 2s 87ms/step - loss: 4.5733e-04 - mean_absolute_error: 0.0144\n",
            "Epoch 99/100\n",
            "28/28 [==============================] - 2s 75ms/step - loss: 4.8769e-04 - mean_absolute_error: 0.0152\n",
            "Epoch 100/100\n",
            "28/28 [==============================] - 1s 53ms/step - loss: 4.6729e-04 - mean_absolute_error: 0.0150\n"
          ]
        }
      ]
    },
    {
      "cell_type": "code",
      "source": [
        "plt.plot(history.history[\"loss\"])\n",
        "plt.plot(history.history[\"mean_absolute_error\"])\n",
        "plt.legend(['Mean Squared Error','Mean Absolute Error'])\n",
        "plt.title(\"Losses\")\n",
        "plt.xlabel(\"epochs\")\n",
        "plt.ylabel(\"loss\")\n",
        "plt.show()"
      ],
      "metadata": {
        "colab": {
          "base_uri": "https://localhost:8080/",
          "height": 508
        },
        "id": "tJquEC73AinE",
        "outputId": "2526826d-119d-4668-c5bc-3519f5422d8d"
      },
      "execution_count": null,
      "outputs": [
        {
          "output_type": "display_data",
          "data": {
            "text/plain": [
              "<Figure size 640x480 with 1 Axes>"
            ],
            "image/png": "[encoded data removed]"
          },
          "metadata": {}
        }
      ]
    },
    {
      "cell_type": "markdown",
      "source": [
        "# **prediction**"
      ],
      "metadata": {
        "id": "Wc31PE1LA9Rv"
      }
    },
    {
      "cell_type": "code",
      "source": [
        "# Creating a testing set with 60 time-steps and 1 output\n",
        "x_test = []\n",
        "y_test = []\n",
        "\n",
        "for i in range(60, len(test_data)):\n",
        "    x_test.append(test_data[i-60:i, 0])\n",
        "    y_test.append(test_data[i, 0])\n",
        "x_test, y_test = np.array(x_test), np.array(y_test)\n",
        "x_test = np.reshape(x_test, (x_test.shape[0], x_test.shape[1], 1))"
      ],
      "metadata": {
        "id": "UYPu0r1XA0Ft"
      },
      "execution_count": null,
      "outputs": []
    },
    {
      "cell_type": "code",
      "source": [
        "x_test.shape , y_test.shape"
      ],
      "metadata": {
        "colab": {
          "base_uri": "https://localhost:8080/"
        },
        "id": "rFleM7TnBFou",
        "outputId": "e2ceac67-ca55-4007-dee4-67823ffdc043"
      },
      "execution_count": null,
      "outputs": [
        {
          "output_type": "execute_result",
          "data": {
            "text/plain": [
              "((315, 60, 1), (315,))"
            ]
          },
          "metadata": {},
          "execution_count": 19
        }
      ]
    },
    {
      "cell_type": "code",
      "source": [
        "#inverse y_test scaling\n",
        "predictions = model.predict(x_test)\n",
        "\n",
        "#inverse predictions scaling\n",
        "predictions = scaler.inverse_transform(predictions)\n",
        "predictions.shape"
      ],
      "metadata": {
        "colab": {
          "base_uri": "https://localhost:8080/"
        },
        "id": "5PEPRkVpBTgT",
        "outputId": "0ed75938-19c4-4750-c01d-14c3cf326e09"
      },
      "execution_count": null,
      "outputs": [
        {
          "output_type": "stream",
          "name": "stdout",
          "text": [
            "10/10 [==============================] - 2s 27ms/step\n"
          ]
        },
        {
          "output_type": "execute_result",
          "data": {
            "text/plain": [
              "(315, 1)"
            ]
          },
          "metadata": {},
          "execution_count": 20
        }
      ]
    },
    {
      "cell_type": "markdown",
      "source": [
        "# **Root mean square error**"
      ],
      "metadata": {
        "id": "0bgCz25jCxm7"
      }
    },
    {
      "cell_type": "code",
      "source": [
        "#inverse y_test scaling\n",
        "y_test = scaler.inverse_transform([y_test])\n",
        "\n",
        "RMSE = np.sqrt(np.mean( y_test - predictions )**2).round(2)\n",
        "RMSE"
      ],
      "metadata": {
        "colab": {
          "base_uri": "https://localhost:8080/"
        },
        "id": "mT0VexXHBZwc",
        "outputId": "b894ca12-1703-468b-df79-479175b7d40e"
      },
      "execution_count": null,
      "outputs": [
        {
          "output_type": "execute_result",
          "data": {
            "text/plain": [
              "1.73"
            ]
          },
          "metadata": {},
          "execution_count": 21
        }
      ]
    },
    {
      "cell_type": "markdown",
      "source": [
        "# **Visualize Predictions with The Data**"
      ],
      "metadata": {
        "id": "6pCVqF76Ceoj"
      }
    },
    {
      "cell_type": "code",
      "source": [
        "train = dataset.iloc[:train_size , 0:1]\n",
        "test = dataset.iloc[train_size: , 0:1]\n",
        "test['Predictions'] = predictions\n",
        "\n",
        "plt.figure(figsize= (16, 6))\n",
        "plt.title('Tesla Close Stock Price Prediction', fontsize= 18)\n",
        "plt.xlabel('Date', fontsize= 18)\n",
        "plt.ylabel('Close Price', fontsize= 18)\n",
        "plt.plot(train['Close'], linewidth= 3)\n",
        "plt.plot(test['Close'], linewidth= 3)\n",
        "plt.plot(test[\"Predictions\"], linewidth= 3)\n",
        "plt.legend(['Train', 'Test', 'Predictions'])"
      ],
      "metadata": {
        "colab": {
          "base_uri": "https://localhost:8080/",
          "height": 640
        },
        "id": "KaM8sETIBwAz",
        "outputId": "0d4322cd-041e-46ac-d5ef-206ac84aacfc"
      },
      "execution_count": null,
      "outputs": [
        {
          "output_type": "execute_result",
          "data": {
            "text/plain": [
              "<matplotlib.legend.Legend at 0x7c68f3d183d0>"
            ]
          },
          "metadata": {},
          "execution_count": 22
        },
        {
          "output_type": "display_data",
          "data": {
            "text/plain": [
              "<Figure size 1600x600 with 1 Axes>"
            ],
            "image/png": "[encoded data removed]"
          },
          "metadata": {}
        }
      ]
    },
    {
      "cell_type": "code",
      "source": [],
      "metadata": {
        "id": "VcMGlZfgFZTV"
      },
      "execution_count": null,
      "outputs": []
    }
  ]
}